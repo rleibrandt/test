{
  "nbformat": 4,
  "nbformat_minor": 0,
  "metadata": {
    "colab": {
      "name": "Untitled6.ipynb",
      "provenance": [],
      "collapsed_sections": [],
      "toc_visible": true,
      "authorship_tag": "ABX9TyNSLd55dwRIhp1AL+kHXgfG",
      "include_colab_link": true
    },
    "kernelspec": {
      "name": "python3",
      "display_name": "Python 3"
    },
    "language_info": {
      "name": "python"
    }
  },
  "cells": [
    {
      "cell_type": "markdown",
      "metadata": {
        "id": "view-in-github",
        "colab_type": "text"
      },
      "source": [
        "<a href=\"https://colab.research.google.com/github/rleibrandt/test/blob/main/Untitled6.ipynb\" target=\"_parent\"><img src=\"https://colab.research.google.com/assets/colab-badge.svg\" alt=\"Open In Colab\"/></a>"
      ]
    },
    {
      "cell_type": "markdown",
      "source": [
        "# Neuer Abschnitt"
      ],
      "metadata": {
        "id": "azIRG5Fworm_"
      }
    },
    {
      "cell_type": "markdown",
      "source": [
        ""
      ],
      "metadata": {
        "id": "mickDaUaUeyL"
      }
    },
    {
      "cell_type": "code",
      "source": [
        "2 + 2"
      ],
      "metadata": {
        "colab": {
          "base_uri": "https://localhost:8080/"
        },
        "id": "IRdhJBwjou_E",
        "outputId": "8a63477d-93f7-46c9-c291-eb66920f4839"
      },
      "execution_count": 7,
      "outputs": [
        {
          "output_type": "execute_result",
          "data": {
            "text/plain": [
              "4"
            ]
          },
          "metadata": {},
          "execution_count": 7
        }
      ]
    },
    {
      "cell_type": "code",
      "source": [
        "print(2+2)"
      ],
      "metadata": {
        "colab": {
          "base_uri": "https://localhost:8080/"
        },
        "id": "Ul1mjj0spP9s",
        "outputId": "3eb8e47d-cbe2-49a3-fd76-a2ac00c3a807"
      },
      "execution_count": 8,
      "outputs": [
        {
          "output_type": "stream",
          "name": "stdout",
          "text": [
            "4\n"
          ]
        }
      ]
    },
    {
      "cell_type": "code",
      "source": [
        "print('Hello World!')"
      ],
      "metadata": {
        "colab": {
          "base_uri": "https://localhost:8080/"
        },
        "id": "gUjGco8Do4GM",
        "outputId": "24c36647-aafa-4e62-ff22-652aa127157b"
      },
      "execution_count": 4,
      "outputs": [
        {
          "output_type": "stream",
          "name": "stdout",
          "text": [
            "Hello World!\n"
          ]
        }
      ]
    },
    {
      "cell_type": "code",
      "source": [
        "# Das hier ist ein Kommentar und wird vom Interpreter nicht ausgeführt.\n",
        "'Hello World!'"
      ],
      "metadata": {
        "colab": {
          "base_uri": "https://localhost:8080/",
          "height": 35
        },
        "id": "iwDTi4jKpIAe",
        "outputId": "a31b3508-8a4a-4fe2-9006-a48a2e88245e"
      },
      "execution_count": 10,
      "outputs": [
        {
          "output_type": "execute_result",
          "data": {
            "text/plain": [
              "'Hello World!'"
            ],
            "application/vnd.google.colaboratory.intrinsic+json": {
              "type": "string"
            }
          },
          "metadata": {},
          "execution_count": 10
        }
      ]
    },
    {
      "cell_type": "markdown",
      "source": [
        "Das hier ist eine Erklärung. Ich will gleich ... machen:"
      ],
      "metadata": {
        "id": "GQ-HGMTUpSZa"
      }
    },
    {
      "cell_type": "code",
      "source": [
        ""
      ],
      "metadata": {
        "id": "sLQ1IcLTpYrF"
      },
      "execution_count": null,
      "outputs": []
    },
    {
      "cell_type": "markdown",
      "source": [
        "# Das ist eine Überschrift"
      ],
      "metadata": {
        "id": "I7LV38TlqCWo"
      }
    },
    {
      "cell_type": "markdown",
      "source": [
        "## Das ist eine Unterüberschrift\n",
        "\n",
        "Hier ist *kursiver* und **fetter** Text.\n",
        "\n",
        "1. Aufzählung\n",
        "2. zweiter Punkt\n",
        "\n",
        "- erster Punkt\n",
        "- zweiter Punkt"
      ],
      "metadata": {
        "id": "amzgjsLnqMyI"
      }
    },
    {
      "cell_type": "code",
      "source": [
        ""
      ],
      "metadata": {
        "id": "eR7tlriWqKq_"
      },
      "execution_count": 10,
      "outputs": []
    }
  ]
}